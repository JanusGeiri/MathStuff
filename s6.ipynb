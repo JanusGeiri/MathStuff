{
 "cells": [
  {
   "cell_type": "markdown",
   "metadata": {},
   "source": [
    "# **Tölvunarfræði 1a, skiladæmi 6**\n",
    "Þessi skiladæmi eru úr 10. kafla kennslubókar sem fjallar um lista, og þið getið undirbúið ykkur með því að lesa hann, skoða kennslumyndskeið úr honum á Canvas-síðunni, skoða lausnir á tímadæmum 6 og/eða skoða pdf-skjal um runur á Canvas-->Námsefni-->Ýmislegt. Setjið stutta skjölunarstrengi í öll föll sem þið skrifið.\n",
    "\n",
    "## S6.1 Föll af listum\n",
    "**a)** Skrifið fall `minmax(x,y)` sem tekur inn tvo lista `x` og `y` og skilar lista með minnstu stökum `x` og `y` og þar á eftir stærstu stökum þeirra. Notið föllin `min` og `max`. Prófið með `x = [3,1,7,5]` og `y = [8,6,4,2]` (sem á að skila `[1,2,7,8]`) og líka með ykkar eigin fæðingardegi `x = [d, m, á]` og fæðingardegi einhvers sem þið þekkið, `y = [d1, m1, á1]`."
   ]
  },
  {
   "cell_type": "code",
   "execution_count": 1,
   "metadata": {},
   "outputs": [],
   "source": [
    "#1a\n",
    "def minmax(x,y):\n",
    "    return [min(x),min(y),max(x),max(y)]\n",
    "x = [3,1,7,5]\n",
    "y = [8,6,4,2])\n",
    "print(minmax(x,y)\n",
    "d1 = [16,1,2001]\n",
    "d2 = [31,1,2001]\n",
    "print(minmax(d1,d2))\n"
   ]
  },
  {
   "source": [
    "**b)** Skrifið fall `skipta(x)` sem skiptir lista `x` í tvennt: Það á að skila lista með tveimur stökum, `x1` og `x2` þar sem `x1` er fyrri helmingurinn af `x` og `x2` er seinni helmingurinn. Ef `x` hefur oddatölulengd, látið þá `x1` verða einum lengri en `x2`. Prófið með sömu `x`-um og notuð voru í a-lið (á að skila `[[3,1], [7,5]]` og `[[d,m], [á]]`)."
   ],
   "cell_type": "markdown",
   "metadata": {}
  },
  {
   "cell_type": "code",
   "execution_count": 2,
   "metadata": {},
   "outputs": [],
   "source": [
    "#1b\n",
    "def skipta(x):\n",
    "    leng = len(x)\n",
    "    l = leng/2 if leng%2==0 else leng//2+1\n",
    "    return [x[0:l],x[l:len(x)]]\n",
    "\n",
    "print(skipta(x))\n",
    "print(skipta(d1))\n"
   ]
  },
  {
   "cell_type": "markdown",
   "metadata": {},
   "source": [
    "## S6.2 Meðaltal og staðalfrávik lista\n",
    "Skrifið fall `tölfræði(x)` sem skilar lista `[m, s]` með meðaltali og staðalfráviki stakanna í listanum `x` með því að nota formúlurnar: \n",
    "\\begin{align}\n",
    "m &= \\frac{1}{n}\\sum_{i=0}^{n-1}{x[i]}\\\\\n",
    "s &= \\sqrt{\\frac{1}{n-1}\\sum_{i=0}^{n-1}(x[i] - m)^2}\n",
    "\\end{align}\n",
    "Prófið með sömu `x`-um og í dæmi 6.1.<br>\n",
    "(**Til fróðleiks:** Þetta er önnur formúla en notuð var í S5.1. Sú formúla er stærðfræðilega jafngild þessari, en getur gefið ónákvæmt svar vegna tölulegs óstöðugleika. Kosturinn við hana er hinsvegar að það þarf ekki að lykkja tvisvar í gegn um gögnin)."
   ]
  },
  {
   "cell_type": "code",
   "execution_count": 3,
   "metadata": {},
   "outputs": [],
   "source": [
    "#2\n",
    "def avg(x):\n",
    "    return sum(x)/len(x)\n",
    "\n",
    "def stddev(x):\n",
    "    s = 0\n",
    "    n = len(x)\n",
    "    m = avg(x)\n",
    "    for i in x:\n",
    "        s+=(i-m)**2\n",
    "    return s/(n-1)\n"
   ]
  },
  {
   "cell_type": "markdown",
   "metadata": {},
   "source": [
    "## S6.2 Svartipétur, fyrsti hluti\n",
    "Í næstu viku ætlum að spila svartapétur við tölvuna, og hér verður byrjað á því verkefni með því að skrifa tvö föll sem þarf að nota.\n",
    "\n",
    "**a)** Til að líkja eftir spilahöndum má nota lista þar sem stökin eru strengir, t.d. `hendi = ['H2', 'LK', SÁ']` (hjartatvistur, laufakóngur, spaðaás). Skrifið fall `draga(hendi,n)` sem líkir eftir því þegar dregið er spil í svartapétri. Fallið á að skila lista með tveimur stökum, fyrra stakið er spilið sem dregið var og seinna stakið nýja hendin þar sem búið er að fjarlægja stakið sem var í n-ta sæti (notið t.d. `pop`). Prófið með `draga(['LÁ', 'T2', 'H3', 'S4'], 2)` (sem á að skila `[['H3'],['LÁ', 'T2', 'S4']]`) og líka með einhverri annarri sjálfvaldri 5-spila hendi."
   ]
  },
  {
   "cell_type": "code",
   "execution_count": 4,
   "metadata": {},
   "outputs": [],
   "source": [
    "#3a\n",
    "hendi = ['H2', 'LK', 'SÁ']\n",
    "def draga(hendi,n):\n",
    "    if 0<=n<len(hendi):\n",
    "        x = hendi[n]\n",
    "        hendi.pop(n)\n",
    "        return [x,hendi]\n",
    "print(draga(hendi,2))\n"
   ]
  },
  {
   "cell_type": "markdown",
   "metadata": {},
   "source": [
    "**b)** Skrifið nýja útgáfu af fallinu, `draga(hendi)` sem vinnur eins og sú í a-lið, nema hvað velja skal sæti spilsins sem dregið er af handahófi. Notið `random.randint`, sem lesa má um í kafla 13.2. Prófið með sömu listum og í a-lið"
   ]
  },
  {
   "cell_type": "code",
   "execution_count": 5,
   "metadata": {},
   "outputs": [],
   "source": [
    "#3b\n",
    "import random\n",
    "def draga(hendi):\n",
    "    n = random.randint(0,len(hendi))\n",
    "    x = hendi[n]\n",
    "    hendi.pop(n)\n",
    "    return[x,hendi[n]]\n",
    "print(draga(hendi,2))"
   ]
  },
  {
   "cell_type": "markdown",
   "metadata": {},
   "source": [
    "**c)** Skrifið fall `hendapari(hendi)` sem finnur par eða samstæðu (t.d. tvo tvista) í `hendi` og fjarlægir það úr henni. Fallið á að skila `True` ef það finnar par, annars false. Eftir skipanirnar:\n",
    "\n",
    "     h = ['S2', 'LK', 'L2', 'H3']\n",
    "     fannst = hendapari(h)\n",
    "     \n",
    "þá á `fannst` að vera `True` og `h` að vera `['LK', 'H3']`. Þið getið notað eftirfarandi reiknirit. Prófið, m.a. með listanum `h`.\n",
    "\n",
    "     fall hendapari(hendi):\n",
    "         n := lengd L\n",
    "         fyrir j = 1,...,n-1:\n",
    "            fyrir i = 0,...,j-1:\n",
    "               ef L[i] er með sama talnagildi og L[j] þá er par fundið:\n",
    "                   henda spilum i og j úr L\n",
    "                   skila sönnu\n",
    "         ef reikniritið kemst hingað, þá á að skila ósönnu\n",
    "         \n",
    "**Ath.** Reikniritið nýtir sér að ef lista sem er stiki er breytt inni í falli þá breytist listinn sem notaður er sem viðfang.\n",
    "\n",
    "**Til fróðleiks:** Hægt er að finna reglurnar í svartapétri á [spilareglur.is](http://spilareglur.is) þar sem gert er ráð fyrir að laufagosinn sé tekinn úr og spaðagosinn sé \"Svarti-Pétur\" en ég lærði minnir mig að nota jóker fyrir svartapétur (sbr. [útipúkar](https://utipukar.is/2013/07/08/svartipetur-thangad-til-einhver-verdur-tapsar/)). Svo er líka hægt að nota [Dalvíkurútgáfuna](https://www.dalvikurbyggd.is/static/files/Dalvikurskoli/Tofraheimur/svartipetur.pdf), draga fyrst eitt spil úr stokknum og þá veit enginn hvaða spil er Svarti-Pétur."
   ]
  },
  {
   "cell_type": "code",
   "execution_count": 6,
   "metadata": {},
   "outputs": [],
   "source": [
    "#3c\n",
    "def hendapari(hendi):\n",
    "    n = len(hendi)\n",
    "    for i in range(n):\n",
    "        for j in range(i,n):\n",
    "            if hendi[i][1]==hendi[j][1]:\n",
    "                hendi.pop(i)\n",
    "                hendi.pop(j)\n",
    "                return True\n",
    "    return False\n",
    "\n",
    "h = ['S2', 'LK', 'L2', 'H3']\n",
    "print(h)\n",
    "print(hendapari(h))\n",
    "print(h)\n"
   ]
  },
  {
   "cell_type": "markdown",
   "metadata": {},
   "source": [
    "## Með hverjum var unnið?"
   ]
  },
  {
   "source": [
    "Mér gekk vel, ég vann einn."
   ],
   "cell_type": "markdown",
   "metadata": {}
  }
 ],
 "metadata": {
  "kernelspec": {
   "display_name": "Python 3.7.4 64-bit ('base': conda)",
   "language": "python",
   "name": "python37464bitbasecondada319790e4704d58bd3cfa212ffb39d8"
  },
  "language_info": {
   "codemirror_mode": {
    "name": "ipython",
    "version": 3
   },
   "file_extension": ".py",
   "mimetype": "text/x-python",
   "name": "python",
   "nbconvert_exporter": "python",
   "pygments_lexer": "ipython3",
   "version": "3.7.4-final"
  }
 },
 "nbformat": 4,
 "nbformat_minor": 4
}